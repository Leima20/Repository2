{
 "cells": [
  {
   "cell_type": "markdown",
   "id": "33da77be-353c-4b1a-bcf8-d9564d9a4fc7",
   "metadata": {},
   "source": [
    "******Data Science Tools and Ecosystem******"
   ]
  },
  {
   "cell_type": "markdown",
   "id": "c71184db-b2bd-4c34-9db9-46f231297b4c",
   "metadata": {},
   "source": [
    "In this notebook, Data Science Tools and Ecosystem are summarized."
   ]
  },
  {
   "cell_type": "markdown",
   "id": "c739a7ca-23bc-4ee3-8a31-e6551d41fcbe",
   "metadata": {},
   "source": [
    "**Objectives:**\n",
    "\n",
    "* 3 of the most popular languages that Data Scientists use\n",
    "* 3 of the most commonly libraries used by Data Scientists\n",
    "* 3 Development Environment open source tools used in data science"
   ]
  },
  {
   "cell_type": "markdown",
   "id": "c679aaab-65bd-4311-9c39-0ed5b4cd2293",
   "metadata": {},
   "source": [
    "Some of the popular languages that Data Scientists use are:\n",
    "1. R\n",
    "2. Python\n",
    "3. Java"
   ]
  },
  {
   "cell_type": "markdown",
   "id": "a75ad550-af37-4f79-8d0b-3dcfbf1e5778",
   "metadata": {},
   "source": [
    "Some of the commonly libraries used by Data Scientists include:\n",
    "\n",
    "1. Pandas\n",
    "2. Numpy\n",
    "3. Scipy"
   ]
  },
  {
   "cell_type": "markdown",
   "id": "f56d26c1-39e7-40fd-b1fe-98c28ed2d608",
   "metadata": {},
   "source": [
    "| Data Science Tools | \n",
    "| ----------------   |\n",
    "| Jupyter Notebooks  |\n",
    "| Zeppelin Notebooks |\n",
    "| R Studio’s         |"
   ]
  },
  {
   "cell_type": "markdown",
   "id": "06767e54-a602-459f-8360-d279946557b7",
   "metadata": {},
   "source": [
    "***Below are a few examples of evaluating arithmetic expressions in Python***"
   ]
  },
  {
   "cell_type": "code",
   "execution_count": 16,
   "id": "008d650c-3c4b-4ac4-9d28-e70e553e3644",
   "metadata": {},
   "outputs": [
    {
     "data": {
      "text/html": [
       "17"
      ],
      "text/latex": [
       "17"
      ],
      "text/markdown": [
       "17"
      ],
      "text/plain": [
       "[1] 17"
      ]
     },
     "metadata": {},
     "output_type": "display_data"
    }
   ],
   "source": [
    "#This a simple arithmetic expression to mutiply then add integers \n",
    "(3*4)+5"
   ]
  },
  {
   "cell_type": "code",
   "execution_count": 17,
   "id": "4021ce96-cb9e-4718-b691-cb8bb44fbafa",
   "metadata": {},
   "outputs": [
    {
     "data": {
      "text/html": [
       "3.33333333333333"
      ],
      "text/latex": [
       "3.33333333333333"
      ],
      "text/markdown": [
       "3.33333333333333"
      ],
      "text/plain": [
       "[1] 3.333333"
      ]
     },
     "metadata": {},
     "output_type": "display_data"
    }
   ],
   "source": [
    "#This will convert 200 minutes to hours by diving by 60.\n",
    "200/60"
   ]
  },
  {
   "cell_type": "markdown",
   "id": "6f6ad286-606f-4609-8ad6-5b3830901e27",
   "metadata": {},
   "source": [
    "****Author´s Name:****\n",
    "* Lakshmi Holla\n",
    "* Niveditha Pandith"
   ]
  },
  {
   "cell_type": "markdown",
   "id": "62bc2b0e-9c4c-4acf-a2ca-917a7321c576",
   "metadata": {},
   "source": [
    "Name: Leidy Massiel"
   ]
  },
  {
   "cell_type": "code",
   "execution_count": null,
   "id": "cf59d0bb-b8b1-4dcd-b13e-f229c5a4599a",
   "metadata": {},
   "outputs": [],
   "source": []
  }
 ],
 "metadata": {
  "kernelspec": {
   "display_name": "R",
   "language": "R",
   "name": "ir"
  },
  "language_info": {
   "codemirror_mode": "r",
   "file_extension": ".r",
   "mimetype": "text/x-r-source",
   "name": "R",
   "pygments_lexer": "r",
   "version": "3.6.1"
  }
 },
 "nbformat": 4,
 "nbformat_minor": 5
}
